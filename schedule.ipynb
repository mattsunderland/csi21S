{
 "cells": [
  {
   "cell_type": "code",
   "execution_count": 1,
   "metadata": {},
   "outputs": [],
   "source": [
    "import pandas as pd\n",
    "\n",
    "with open('./schedule.md','w') as g:\n",
    "    pass\n",
    "\n",
    "for course in ['218','113','233']:\n",
    "    with open('./schedule.md','a') as g:\n",
    "        g.write(f'\\n\\n# Schedule - {course}\\n')\n",
    "        \n",
    "    with open(f'./{course}/README.md','r') as f:\n",
    "        read = False\n",
    "        \n",
    "        while True:\n",
    "            line = f.readline()\n",
    "            \n",
    "            if not line:\n",
    "                break\n",
    "            \n",
    "            if read:\n",
    "                with open('./schedule.md','a') as g:\n",
    "                    g.write(line)\n",
    "            \n",
    "            if '# Schedule' in line:\n",
    "                read = True\n",
    "            \n",
    "            if '| **Final**' in line:\n",
    "                break"
   ]
  }
 ],
 "metadata": {
  "kernelspec": {
   "display_name": "Python 3",
   "language": "python",
   "name": "python3"
  },
  "language_info": {
   "codemirror_mode": {
    "name": "ipython",
    "version": 3
   },
   "file_extension": ".py",
   "mimetype": "text/x-python",
   "name": "python",
   "nbconvert_exporter": "python",
   "pygments_lexer": "ipython3",
   "version": "3.8.5"
  }
 },
 "nbformat": 4,
 "nbformat_minor": 4
}
