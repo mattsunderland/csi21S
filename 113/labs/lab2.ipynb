{
 "cells": [
  {
   "cell_type": "markdown",
   "metadata": {},
   "source": [
    "# Intro Stats - Lab 2 - Frequency tables and histograms"
   ]
  },
  {
   "cell_type": "markdown",
   "metadata": {},
   "source": [
    "1. **RUN** the following to load the data."
   ]
  },
  {
   "cell_type": "code",
   "execution_count": null,
   "metadata": {},
   "outputs": [],
   "source": [
    "import seaborn as sns\n",
    "data = sns.load_dataset('tips')\n",
    "data"
   ]
  },
  {
   "cell_type": "markdown",
   "metadata": {},
   "source": [
    "2. **Observe.** There are n = 244 data points in this sample.  \n",
    "1. **RUN** the following to get a frequency table of the `smoker` columns."
   ]
  },
  {
   "cell_type": "code",
   "execution_count": null,
   "metadata": {},
   "outputs": [],
   "source": [
    "data['smoker'].value_counts()"
   ]
  },
  {
   "cell_type": "markdown",
   "metadata": {},
   "source": [
    "4. **Observe.** The relative frequency of \"non-smoker\" is 151/244 = 0.6189  \n",
    "1. **EXERCISE.** Make a frequency table of the `day` column."
   ]
  },
  {
   "cell_type": "code",
   "execution_count": null,
   "metadata": {},
   "outputs": [],
   "source": [
    "# Type your code and press SHIFT+ENTER\n",
    "\n"
   ]
  },
  {
   "cell_type": "markdown",
   "metadata": {},
   "source": [
    "6. **EXERCISE.** What is the relative frequency of \"sunday\"?"
   ]
  },
  {
   "cell_type": "code",
   "execution_count": null,
   "metadata": {},
   "outputs": [],
   "source": [
    "# The relative frequency is:"
   ]
  },
  {
   "cell_type": "markdown",
   "metadata": {},
   "source": [
    "7. **RUN** the following to make a histogram of the `smoker` column."
   ]
  },
  {
   "cell_type": "code",
   "execution_count": null,
   "metadata": {},
   "outputs": [],
   "source": [
    "sns.histplot(data, x='smoker');"
   ]
  },
  {
   "cell_type": "markdown",
   "metadata": {},
   "source": [
    "8. **EXERCISE.** Make a histogram of the `day` column."
   ]
  },
  {
   "cell_type": "code",
   "execution_count": null,
   "metadata": {},
   "outputs": [],
   "source": [
    "# Type your answer and press SHIFT+ENTER\n"
   ]
  },
  {
   "cell_type": "markdown",
   "metadata": {},
   "source": [
    "9. **RUN** the following to filter to \"bills greater than 20 dollars.\" \n",
    "\n",
    "<!-- # The relative frequency of bills\n",
    "# greater than or equal to 20 dollars is:\n",
    "#\n",
    "#    97/244 = 0.3975\n",
    "# -->"
   ]
  },
  {
   "cell_type": "code",
   "execution_count": null,
   "metadata": {},
   "outputs": [],
   "source": [
    "data[data['total_bill']>=20]"
   ]
  },
  {
   "cell_type": "markdown",
   "metadata": {},
   "source": [
    "10. **Observe** that the relative frequency of \"bills greater than 20 dollars\" is 97/244 = 0.3975.\n",
    "1. **EXERCISE.** Filter to \"tips less than or equal to 1 dollar.\""
   ]
  },
  {
   "cell_type": "code",
   "execution_count": null,
   "metadata": {},
   "outputs": [],
   "source": [
    "# Type your code and press SHIFT+ENTER\n",
    "\n"
   ]
  },
  {
   "cell_type": "markdown",
   "metadata": {},
   "source": [
    "12. **EXERCISE.** What is the relative frequency of \"tips less than or equal to 1 dollar\"?"
   ]
  },
  {
   "cell_type": "code",
   "execution_count": null,
   "metadata": {},
   "outputs": [],
   "source": [
    "# The relative frequency is:"
   ]
  },
  {
   "cell_type": "markdown",
   "metadata": {},
   "source": [
    "13. **RUN** the following to get a histogram of `tip_percent` (tip divided by total_bill)"
   ]
  },
  {
   "cell_type": "code",
   "execution_count": null,
   "metadata": {},
   "outputs": [],
   "source": [
    "data['tip_percent'] = data['tip']/data['total_bill']\n",
    "\n",
    "sns.histplot(data, x='tip_percent');"
   ]
  },
  {
   "cell_type": "markdown",
   "metadata": {},
   "source": [
    "14. **Observe** that `tip_percent` **is** normally distributed and **has** outliers.\n",
    "15. **EXERCISE** Make a histogram of `bill_per_person` (total_bill divided by size)"
   ]
  },
  {
   "cell_type": "code",
   "execution_count": null,
   "metadata": {},
   "outputs": [],
   "source": [
    "# Type your code and press SHIFT+ENTER\n",
    "\n"
   ]
  },
  {
   "cell_type": "markdown",
   "metadata": {},
   "source": [
    "16. **EXERCISE.** Is `bill_per_person` normally distributed? Are there outliers?"
   ]
  },
  {
   "cell_type": "code",
   "execution_count": null,
   "metadata": {},
   "outputs": [],
   "source": [
    "# Is bill_per_person normal? Yes or no:\n",
    "\n",
    "# Does bill_per_person have outliers? Yes or no:"
   ]
  },
  {
   "cell_type": "markdown",
   "metadata": {},
   "source": [
    "17. **RUN** the following to get a histogram of `day` grouped by `time`."
   ]
  },
  {
   "cell_type": "code",
   "execution_count": null,
   "metadata": {},
   "outputs": [],
   "source": [
    "sns.histplot(data, x='day', hue='time', multiple='dodge', shrink=0.8);"
   ]
  },
  {
   "cell_type": "markdown",
   "metadata": {},
   "source": [
    "18. **EXERCISE.** Make a histogram of `tip_percent` grouped by `time`."
   ]
  },
  {
   "cell_type": "code",
   "execution_count": null,
   "metadata": {},
   "outputs": [],
   "source": [
    "# Type your code and press SHIFT+ENTER\n",
    "\n"
   ]
  },
  {
   "cell_type": "markdown",
   "metadata": {},
   "source": [
    "# How to submit your lab to Gradescope\n",
    "\n",
    "After you **RUN** all the code cells and type in your answers to all the **EXERCISES** above, it's time to submit your completed lab to Gradescope.\n",
    "\n",
    "1. On this webpage, under the big word \"jupyter,\"\n",
    "   go to File > Download as > PDF via HTML\n",
    "   in order to download your completed lab to your computer as a PDF.\n",
    "1. Now upload that PDF to Gradescope.com by logging into our course and clicking on the name of the assignment (Lab 1)"
   ]
  }
 ],
 "metadata": {
  "kernelspec": {
   "display_name": "Python 3",
   "language": "python",
   "name": "python3"
  },
  "language_info": {
   "codemirror_mode": {
    "name": "ipython",
    "version": 3
   },
   "file_extension": ".py",
   "mimetype": "text/x-python",
   "name": "python",
   "nbconvert_exporter": "python",
   "pygments_lexer": "ipython3",
   "version": "3.8.5"
  }
 },
 "nbformat": 4,
 "nbformat_minor": 4
}
