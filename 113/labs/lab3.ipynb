{
 "cells": [
  {
   "cell_type": "markdown",
   "metadata": {},
   "source": [
    "# Intro Stats - Lab 3 - Boxplots\n",
    "\n",
    "<!--\n",
    "boxplot(data=data[data['cylinders']==4], x='weight', y='origin');\n",
    "boxplot(data=data[data['cylinders']==6], x='weight', y='origin');\n",
    "\n",
    "from seaborn import *\n",
    "for s in [\n",
    "    'mpg',\n",
    "    'titanic',\n",
    "    'tips',\n",
    "    'penguins',\n",
    "    'geyser',\n",
    "    'flights',\n",
    "    'exercise',\n",
    "#     'diamonds',\n",
    "    'car_crashes',\n",
    "#     'attention',\n",
    "]:\n",
    "    data = load_dataset(s)\n",
    "    display(data.head(1))\n",
    "-->"
   ]
  },
  {
   "cell_type": "markdown",
   "metadata": {},
   "source": [
    "1. **EXERCISE** What is your name?"
   ]
  },
  {
   "cell_type": "code",
   "execution_count": null,
   "metadata": {},
   "outputs": [],
   "source": [
    "# My name is: "
   ]
  },
  {
   "cell_type": "markdown",
   "metadata": {},
   "source": [
    "2. <a id='sns'></a> **RUN** the following to load the data."
   ]
  },
  {
   "cell_type": "code",
   "execution_count": null,
   "metadata": {},
   "outputs": [],
   "source": [
    "from seaborn import *\n",
    "data = load_dataset('mpg')\n",
    "data"
   ]
  },
  {
   "cell_type": "markdown",
   "metadata": {},
   "source": [
    "3. **EXERCISE (review)** Based on the output of (2) above, how many data points are in our dataset?  \n",
    "_This is the same as asking..._  \n",
    "_- How big is our sample?_  \n",
    "_- What is n?_  \n",
    "_- How many rows are in our table?_"
   ]
  },
  {
   "cell_type": "code",
   "execution_count": null,
   "metadata": {},
   "outputs": [],
   "source": [
    "# The number of data points in our dataset is: "
   ]
  },
  {
   "cell_type": "markdown",
   "metadata": {},
   "source": [
    "4. **EXERCISE (review)** There are 9 _variables_ (also known as _features_) in our dataset. Based on the output of (2) above, which are categorical and which are numeric?"
   ]
  },
  {
   "cell_type": "code",
   "execution_count": null,
   "metadata": {},
   "outputs": [],
   "source": [
    "# The categorical variables are: \n",
    "# The numeric variables are: "
   ]
  },
  {
   "cell_type": "markdown",
   "metadata": {},
   "source": [
    "5. **RUN** the following to get a frequency table of the `origin` columns."
   ]
  },
  {
   "cell_type": "code",
   "execution_count": null,
   "metadata": {},
   "outputs": [],
   "source": [
    "data['origin'].value_counts()"
   ]
  },
  {
   "cell_type": "markdown",
   "metadata": {},
   "source": [
    "6. **EXERCISE (review)** What is the relative frequency of cars with `origin` being `usa`?"
   ]
  },
  {
   "cell_type": "code",
   "execution_count": null,
   "metadata": {},
   "outputs": [],
   "source": [
    "# The relative frequency of USA cars is: "
   ]
  },
  {
   "cell_type": "markdown",
   "metadata": {},
   "source": [
    "7. **RUN** the following \n",
    "to get summary stats for `weight` of cars, grouped by country of `origin`."
   ]
  },
  {
   "cell_type": "code",
   "execution_count": null,
   "metadata": {},
   "outputs": [],
   "source": [
    "data.groupby('origin')['weight'].describe()"
   ]
  },
  {
   "cell_type": "markdown",
   "metadata": {},
   "source": [
    "8. **RUN** the following to get a boxplot of car `weight`, grouped by `origin`."
   ]
  },
  {
   "cell_type": "code",
   "execution_count": null,
   "metadata": {},
   "outputs": [],
   "source": [
    "boxplot(data=data, x='weight', y='origin');"
   ]
  },
  {
   "cell_type": "markdown",
   "metadata": {},
   "source": [
    "9. **Observe**\n",
    "   USA cars are heaviest on average, and Japanese cars are lightest.  \n",
    "   None of the 3 countries have outliers when it comes to `weight`.\n",
    "  \n",
    "10. **EXERCISE** Get summary stats for `mpg` (miles per gallon) of cars, grouped by country of `origin`   "
   ]
  },
  {
   "cell_type": "code",
   "execution_count": null,
   "metadata": {},
   "outputs": [],
   "source": [
    "# Type your code and press SHIFT+ENTER\n"
   ]
  },
  {
   "cell_type": "markdown",
   "metadata": {},
   "source": [
    "11. **EXERCISE** Make the boxplot of car `mpg`, grouped by `origin`."
   ]
  },
  {
   "cell_type": "code",
   "execution_count": null,
   "metadata": {},
   "outputs": [],
   "source": [
    "# Type your code and press SHIFT+ENTER\n"
   ]
  },
  {
   "cell_type": "markdown",
   "metadata": {},
   "source": [
    "12. **EXERCISE** Higher mpg (miles per gallon) means more fuel-efficient.  \n",
    "    Answer the following\n",
    "\n",
    "<!--\n",
    "# In USA, car `mpg` is ____ skewed (left, not, right): \n",
    "# In Japan, car `mpg` is ____ skewed (left, not, right): \n",
    "# In Europe, car `mpg` is ____ skewed (left, not, right): \n",
    "\n",
    "# In USA, there _____ `mpg` ourliers (are, are not): \n",
    "# In Japan, there _____ `mpg` ourliers (are, are not): \n",
    "# In Europe, there _____ `mpg` ourliers (are, are not): \n",
    "-->"
   ]
  },
  {
   "cell_type": "code",
   "execution_count": null,
   "metadata": {},
   "outputs": [],
   "source": [
    "# The country with the most fuel-efficient cars on average is: \n",
    "#\n",
    "# Does 'mpg' have outliers, yes or no? ANSWER: "
   ]
  },
  {
   "cell_type": "markdown",
   "metadata": {},
   "source": [
    "# Tips and tricks (General troubleshooting)\n",
    "\n",
    "Code not running?\n",
    "- Did you spell the name of the column correctly?\n",
    "- Does it stay `[*]` to the left of the code cell forever? That means internet connection was lost at some point. Go to Kernel > Reconnect. See also the next tip:\n",
    "- Does it say \"Not Connected\" or \"No kernel\" or \"Connecting to kernel\" or \"error\" in a red box in the top right? The server in the cloud timed out due to user inactivity. Save your work right now to a PDF and then go back to the Syllabus and open a fresh copy of this lab."
   ]
  },
  {
   "cell_type": "markdown",
   "metadata": {},
   "source": [
    "# How to submit your lab to Gradescope\n",
    "\n",
    "After you **RUN** all the code cells and type in your answers to all the **EXERCISES** above, it's time to submit your completed lab to Gradescope.\n",
    "\n",
    "1. On this webpage, under the big word \"jupyter,\"\n",
    "   go to File > Download as > PDF via HTML\n",
    "   in order to download your completed lab to your computer as a PDF.\n",
    "1. Now upload that PDF to Gradescope.com by logging into our course and clicking on the name of the assignment (Lab 1)"
   ]
  }
 ],
 "metadata": {
  "kernelspec": {
   "display_name": "Python 3",
   "language": "python",
   "name": "python3"
  },
  "language_info": {
   "codemirror_mode": {
    "name": "ipython",
    "version": 3
   },
   "file_extension": ".py",
   "mimetype": "text/x-python",
   "name": "python",
   "nbconvert_exporter": "python",
   "pygments_lexer": "ipython3",
   "version": "3.8.5"
  }
 },
 "nbformat": 4,
 "nbformat_minor": 4
}
