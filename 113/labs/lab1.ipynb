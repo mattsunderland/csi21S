{
 "cells": [
  {
   "cell_type": "markdown",
   "metadata": {},
   "source": [
    "# Intro Stats - Lab 1 - What is a notebook file?\n",
    "\n",
    "<!--\n",
    "https://mybinder.org/v2/gh/mattsunderland/csi21S/HEAD?filepath=113%2Flabs%2Flab1.ipynb\n",
    "-->"
   ]
  },
  {
   "cell_type": "markdown",
   "metadata": {},
   "source": [
    "(A1) This file is a notebook file.  \n",
    "&emsp;&emsp; It can contain both text and code.\n",
    "\n",
    "(A2) The gray rectangle below is a \"code cell\".  \n",
    "&emsp;&emsp; Click on it and press SHIFT+RETURN and it will **RUN.**  \n",
    "&emsp;&emsp; (The \"return\" key is sometimes called \"enter.\")  \n",
    "\n",
    "(A3) Notice that only the last result will display."
   ]
  },
  {
   "cell_type": "code",
   "execution_count": null,
   "metadata": {},
   "outputs": [],
   "source": [
    "10*7\n",
    "1 + 1"
   ]
  },
  {
   "cell_type": "markdown",
   "metadata": {},
   "source": [
    "(A4) Don't worry, I will always provide the code for you  \n",
    "&emsp;&emsp; You will just be answering questions based on what comes out!   \n",
    "\n",
    "(A5) **RUN** the following code cell."
   ]
  },
  {
   "cell_type": "code",
   "execution_count": null,
   "metadata": {},
   "outputs": [],
   "source": [
    "import seaborn as sns\n",
    "data = sns.load_dataset('tips')\n",
    "data"
   ]
  },
  {
   "cell_type": "markdown",
   "metadata": {},
   "source": [
    "(A6) **EXERCISE.** What is the size of the dataset above? In other words, how many rows are there?"
   ]
  },
  {
   "cell_type": "code",
   "execution_count": null,
   "metadata": {},
   "outputs": [],
   "source": [
    "# The size of the dataset is:"
   ]
  },
  {
   "cell_type": "markdown",
   "metadata": {},
   "source": [
    "(A7) **EXERCISE.** Which variables (which columns) are categorical and which are numeric?"
   ]
  },
  {
   "cell_type": "code",
   "execution_count": null,
   "metadata": {},
   "outputs": [],
   "source": [
    "#  The categorical variables are: \n",
    "#  The numeric variables are: "
   ]
  },
  {
   "cell_type": "markdown",
   "metadata": {},
   "source": [
    "(A8) **RUN** the following to get the \"summary stats.\""
   ]
  },
  {
   "cell_type": "code",
   "execution_count": null,
   "metadata": {},
   "outputs": [],
   "source": [
    "data.describe(include='all').fillna('')"
   ]
  },
  {
   "cell_type": "markdown",
   "metadata": {
    "execution": {
     "iopub.execute_input": "2021-02-03T15:34:44.766498Z",
     "iopub.status.busy": "2021-02-03T15:34:44.766159Z",
     "iopub.status.idle": "2021-02-03T15:34:44.804162Z",
     "shell.execute_reply": "2021-02-03T15:34:44.797870Z",
     "shell.execute_reply.started": "2021-02-03T15:34:44.766451Z"
    }
   },
   "source": [
    "(A9) **EXERCISE.** What is the average tip?\n",
    "<!-- This number, 2.99828, is the average of the tip column above in 5.) -->"
   ]
  },
  {
   "cell_type": "code",
   "execution_count": null,
   "metadata": {},
   "outputs": [],
   "source": [
    "# The average tip is: "
   ]
  },
  {
   "cell_type": "markdown",
   "metadata": {},
   "source": [
    "(A10)  **RUN** the following.\n",
    "<!-- data.groupby('smoker')['smoker'].count().plot.pie(autopct='%.0f%%'); -->"
   ]
  },
  {
   "cell_type": "code",
   "execution_count": null,
   "metadata": {},
   "outputs": [],
   "source": [
    "data.smoker.value_counts().plot.pie();"
   ]
  },
  {
   "cell_type": "markdown",
   "metadata": {},
   "source": [
    "(A11) **EXERCISE.** Is the chart above a pie chart or a bar chart?"
   ]
  },
  {
   "cell_type": "code",
   "execution_count": null,
   "metadata": {},
   "outputs": [],
   "source": [
    "# The chart above is a:"
   ]
  },
  {
   "cell_type": "markdown",
   "metadata": {},
   "source": [
    "# Tips and tricks (General troubleshooting)\n",
    "Code not running?\n",
    "- Did you spell the name of the variable (the column header) correctly?\n",
    "- Does it stay `[*]` to the left of the code cell forever? That means internet connection was lost at some point. Go to Kernel > Reconnect. See also the next tip:\n",
    "- Does it say \"Not Connected\" or \"No kernel\" or \"Connecting to kernel\" or \"error\" in a red box in the top right? The server in the cloud timed out due to user inactivity. Save your work right now to a PDF and then go back to the Syllabus and open a fresh copy of this lab.\n",
    "\n",
    "# How to submit your lab to Gradescope\n",
    "After you **RUN** all the code cells and type in your answers to all the **EXERCISES** above, it's time to submit your completed lab to Gradescope.\n",
    "\n",
    "1. On this webpage, under the big word \"jupyter,\"\n",
    "   go to File > Download as > PDF via HTML\n",
    "   in order to download your completed lab to your computer as a PDF.\n",
    "1. Now upload that PDF to Gradescope.com by logging into our course and clicking on the name of the assignment"
   ]
  }
 ],
 "metadata": {
  "kernelspec": {
   "display_name": "Python 3",
   "language": "python",
   "name": "python3"
  },
  "language_info": {
   "codemirror_mode": {
    "name": "ipython",
    "version": 3
   },
   "file_extension": ".py",
   "mimetype": "text/x-python",
   "name": "python",
   "nbconvert_exporter": "python",
   "pygments_lexer": "ipython3",
   "version": "3.8.5"
  }
 },
 "nbformat": 4,
 "nbformat_minor": 4
}
