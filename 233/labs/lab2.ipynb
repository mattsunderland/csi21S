{
 "cells": [
  {
   "cell_type": "markdown",
   "metadata": {},
   "source": [
    "# Calculus III - Lab 2 - Plotting surfaces\n",
    "\n",
    "<!--\n",
    "https://mybinder.org/v2/gh/mattsunderland/csi21S/HEAD?filepath=233%2Flabs%2Flab1.ipynb\n",
    "-->"
   ]
  },
  {
   "cell_type": "markdown",
   "metadata": {},
   "source": [
    "(B1) **EXERCISE** What is your name?"
   ]
  },
  {
   "cell_type": "code",
   "execution_count": null,
   "metadata": {},
   "outputs": [],
   "source": [
    "# My name is: "
   ]
  },
  {
   "cell_type": "markdown",
   "metadata": {},
   "source": [
    "(B2) <a id='pylab'></a> **RUN** the following. The \"notebook\" argument after the \"%pylab\" magic command switches figures from static to interactive."
   ]
  },
  {
   "cell_type": "code",
   "execution_count": null,
   "metadata": {},
   "outputs": [],
   "source": [
    "%pylab notebook"
   ]
  },
  {
   "cell_type": "markdown",
   "metadata": {},
   "source": [
    "(B3) **RUN** the following. Drag the figure around. Press the blue stop button to stop interactivity.\n",
    "\n",
    "_If no figure appears, try running (B2) above again_"
   ]
  },
  {
   "cell_type": "code",
   "execution_count": null,
   "metadata": {},
   "outputs": [],
   "source": [
    "A = r_[-1,2,1]\n",
    "B = r_[ 2,1,3]\n",
    "O = r_[ 0,0,0]\n",
    "\n",
    "ax = axes(projection='3d')\n",
    "\n",
    "ax.plot(*zip(A,B))\n",
    "ax.plot(*zip(O,B-A))"
   ]
  },
  {
   "cell_type": "markdown",
   "metadata": {},
   "source": [
    "(B4) **RUN** the following."
   ]
  },
  {
   "cell_type": "code",
   "execution_count": null,
   "metadata": {},
   "outputs": [],
   "source": [
    "figure(figsize=(6,4)) # Figsize must be set BEFORE doing \"ax =\"\n",
    "\n",
    "ax = axes(projection='3d')\n",
    "\n",
    "ax.set_xlabel('x')\n",
    "ax.set_ylabel('y')\n",
    "ax.set_zlabel('z')\n",
    "ax.set_xlim(-3,3)\n",
    "ax.set_ylim(-3,3)\n",
    "ax.set_zlim(-3,3)\n",
    "\n",
    "ax.plot(*zip(A,B))\n",
    "ax.plot(*zip(A-A,B-A))\n",
    "\n",
    "ax.view_init(10,20) # Camera elevation and azimuth-angle"
   ]
  },
  {
   "cell_type": "markdown",
   "metadata": {},
   "source": [
    "(B5) <a id='make_ax'></a> **RUN** the following to store all those options above into a command `make_ax` that we can call in the future. Otherwise, it would get tedius typing all those options in 3 again and again moving forward!"
   ]
  },
  {
   "cell_type": "code",
   "execution_count": null,
   "metadata": {},
   "outputs": [],
   "source": [
    "def make_ax(lim=None):\n",
    "    \"\"\"\n",
    "    Defines the 3D plot `ax` and labels x,y,z.\n",
    "    \n",
    "    Sets the camera angle so that \n",
    "    x is to the left, y to the right, and z above\n",
    "    \n",
    "    Optional function argument `lim`\n",
    "    crops the plot to (-lim,lim) for all 3 axes x,y,z,\n",
    "    which will make the plot have (roughly) equally sized x,y,z axes.\n",
    "    \n",
    "    Example:\n",
    "        \n",
    "        make_ax()\n",
    "        A = r_[-1,2,1]\n",
    "        B = r_[2,1,3]\n",
    "        ax.plot(*zip(A,B),'r')\n",
    "    \n",
    "    Example using optional argument, which crops the plot to -5 < x,y,z < 5:\n",
    "        \n",
    "        make_ax(5)\n",
    "        A = r_[-1,2,1]\n",
    "        B = r_[2,1,3]\n",
    "        ax.plot(*zip(A,B),'r')\n",
    "    \"\"\"\n",
    "    \n",
    "    global ax\n",
    "    \n",
    "    %pylab notebook\n",
    "\n",
    "    ax = axes(projection='3d')\n",
    "    \n",
    "    ax.set_xlabel('x')\n",
    "    ax.set_ylabel('y')\n",
    "    ax.set_zlabel('z')\n",
    "    \n",
    "    if lim:\n",
    "        ax.set_xlim(-lim,lim)\n",
    "        ax.set_ylim(-lim,lim)\n",
    "        ax.set_zlim(-lim,lim)\n",
    "    \n",
    "    ax.view_init(10,20)"
   ]
  },
  {
   "cell_type": "markdown",
   "metadata": {},
   "source": [
    "(B6) **RUN** the following.\n",
    "\n",
    "_Getting the error \"make_ax not defined\"?  \n",
    "Run [(B5)](#make_ax) above!_"
   ]
  },
  {
   "cell_type": "code",
   "execution_count": null,
   "metadata": {},
   "outputs": [],
   "source": [
    "make_ax()\n",
    "\n",
    "A = r_[-1,2,1]\n",
    "B = r_[2,1,3]\n",
    "\n",
    "ax.plot(*zip(A,B),'r') # 'r' means red\n",
    "ax.plot(*zip(A-A,B-A),'b') # 'b' means blue\n",
    "\n",
    "ax.text(*A,'A')\n",
    "ax.text(*B,'B')\n",
    "ax.text(*(A-A),'O')\n",
    "ax.text(*(B-A),'B-A');"
   ]
  },
  {
   "cell_type": "markdown",
   "metadata": {},
   "source": [
    "# Dot and cross product\n",
    "\n",
    "(B7) **RUN** the following"
   ]
  },
  {
   "cell_type": "code",
   "execution_count": null,
   "metadata": {},
   "outputs": [],
   "source": [
    "A = r_[-1,2,1]\n",
    "B = r_[2,1,3]"
   ]
  },
  {
   "cell_type": "code",
   "execution_count": null,
   "metadata": {},
   "outputs": [],
   "source": [
    "dot(A,B)"
   ]
  },
  {
   "cell_type": "code",
   "execution_count": null,
   "metadata": {},
   "outputs": [],
   "source": [
    "cross(A,B)"
   ]
  },
  {
   "cell_type": "markdown",
   "metadata": {},
   "source": [
    "(B8) **EXERCISE.** Compute dot(u,c) and dot(v,c) where u = <3 -5 1>, v = <3 2 -2> and c = <8 9 21>"
   ]
  },
  {
   "cell_type": "code",
   "execution_count": null,
   "metadata": {},
   "outputs": [],
   "source": [
    "# Type your answer below and press SHIFT+ENTER\n",
    "\n"
   ]
  },
  {
   "cell_type": "markdown",
   "metadata": {},
   "source": [
    "(B9) **EXERCISE.** Based on exercise 6 above, mark all that apply with an [x]"
   ]
  },
  {
   "cell_type": "code",
   "execution_count": null,
   "metadata": {},
   "outputs": [],
   "source": [
    "# Mark all that apply with an [x]\n",
    "#\n",
    "#   [ ]  u and v are perpendicular\n",
    "#\n",
    "#   [ ]  u x v = c  implies  u.c = v.c = 0\n",
    "#\n",
    "#   [ ]  u.c = v.c = 0  implies  u x v = c\n",
    "#\n",
    "#   [ ]  u.c = v.c = 0  implies  u and v are both orthogonal to c\n",
    "#\n",
    "#   [ ]  u.c = v.c = 0 is mere coincidence and has no implications\n",
    "#"
   ]
  },
  {
   "cell_type": "markdown",
   "metadata": {},
   "source": [
    "(B10) **EXERCISE.** Plot u in green, v in blue, c in red."
   ]
  },
  {
   "cell_type": "code",
   "execution_count": null,
   "metadata": {},
   "outputs": [],
   "source": [
    "make_ax(20)\n",
    "\n",
    "u,v,c = r_[3,-5,1], r_[3,2,-2], r_[8,9,21]\n",
    "O = r_[0,0,0]\n",
    "\n",
    "ax.text(*u,'u')\n",
    "ax.text(*v,'v')\n",
    "ax.text(*c,'c')\n",
    "\n",
    "# Type your answer below and press SHIFT+ENTER\n",
    "\n",
    "\n"
   ]
  },
  {
   "cell_type": "markdown",
   "metadata": {},
   "source": [
    "# Graphing planes\n",
    "\n",
    "(B11) Example. **RUN** the following, which graphs  \n",
    "1. u = <2,-4,-1>, \n",
    "1. v = <3, 1,-2>,\n",
    "1. the cross product of u and v, and\n",
    "1. the plane containing u and v and the point P(0,0,0)."
   ]
  },
  {
   "cell_type": "code",
   "execution_count": null,
   "metadata": {},
   "outputs": [],
   "source": [
    "u = r_[2,-4,-1]\n",
    "v = r_[3, 1,-2]\n",
    "P = r_[0, 0, 0]\n",
    "\n",
    "a,b,c = cross(u,v)\n",
    "d = dot(cross(u,v),P)\n",
    "\n",
    "def F(x,y): return (d - a*x - b*y)/c\n",
    "\n",
    "make_ax(2)\n",
    "\n",
    "[x,y] = meshgrid(r_[-2:2:1/2], r_[-2:2:1/2])\n",
    "\n",
    "ax.plot_wireframe(x, y, F(x,y))\n",
    "\n",
    "ax.plot(*zip(P,P+u),'r')\n",
    "ax.plot(*zip(P,P+v),'r')\n",
    "ax.plot(*zip(P,P+cross(u,v)),'r')"
   ]
  },
  {
   "cell_type": "markdown",
   "metadata": {},
   "source": [
    "(B12) **EXERCISE.** Graph the plane containing <6,4,-1>, <-3,12,5>, and the origin (0,0,0)."
   ]
  },
  {
   "cell_type": "code",
   "execution_count": null,
   "metadata": {},
   "outputs": [],
   "source": [
    "# Type your answer below and press SHIFT+ENTER\n",
    "\n"
   ]
  },
  {
   "cell_type": "markdown",
   "metadata": {},
   "source": [
    "(B13) Example. **RUN** the following plot of $y^2 + z^2 = 4$."
   ]
  },
  {
   "cell_type": "code",
   "execution_count": null,
   "metadata": {},
   "outputs": [],
   "source": [
    "def F1(x,y): return sqrt(4 - y**2)\n",
    "def F2(x,y): return -sqrt(4 - y**2)\n",
    "\n",
    "make_ax(2)\n",
    "\n",
    "[x,y] = meshgrid(linspace(-2,2,20),linspace(-2,2,20))\n",
    "\n",
    "ax.plot_wireframe(x, y, F1(x,y))\n",
    "ax.plot_wireframe(x, y, F2(x,y))"
   ]
  },
  {
   "cell_type": "markdown",
   "metadata": {},
   "source": [
    "(B14) **EXERCISE.** Plot the following.\n",
    "    1. $z = x^2 + y^2$\n",
    "    1. $z = e^{x^2 + y^2}$\n",
    "    1. $z = 1/(x^2+y^2)$\n",
    "    1. $z = \\sin(x^2+y^2)/(x^2+y^2)$"
   ]
  },
  {
   "cell_type": "code",
   "execution_count": null,
   "metadata": {},
   "outputs": [],
   "source": [
    "# (A) Type your answer below and press SHIFT+ENTER\n",
    "\n"
   ]
  },
  {
   "cell_type": "code",
   "execution_count": null,
   "metadata": {},
   "outputs": [],
   "source": [
    "# (B) Type your answer below and press SHIFT+ENTER\n",
    "\n"
   ]
  },
  {
   "cell_type": "code",
   "execution_count": null,
   "metadata": {},
   "outputs": [],
   "source": [
    "# (C) Type your answer below and press SHIFT+ENTER\n",
    "\n"
   ]
  },
  {
   "cell_type": "code",
   "execution_count": null,
   "metadata": {},
   "outputs": [],
   "source": [
    "# (D) Type your answer below and press SHIFT+ENTER\n",
    "\n"
   ]
  },
  {
   "cell_type": "markdown",
   "metadata": {},
   "source": [
    "# Tips and tricks (General troubleshooting)\n",
    "Code not running?\n",
    "- Did you spell the name of the variable (the column header) correctly?\n",
    "- Does it stay `[*]` to the left of the code cell forever? That means internet connection was lost at some point. Go to Kernel > Reconnect. See also the next tip:\n",
    "- Does it say \"Not Connected\" or \"No kernel\" or \"Connecting to kernel\" or \"error\" in a red box in the top right? The server in the cloud timed out due to user inactivity. Save your work right now to a PDF and then go back to the Syllabus and open a fresh copy of this lab.\n",
    "\n",
    "# How to submit your lab to Gradescope\n",
    "After you **RUN** all the code cells and type in your answers to all the **EXERCISES** above, it's time to submit your completed lab to Gradescope.\n",
    "\n",
    "1. On this webpage, under the big word \"jupyter,\"\n",
    "   go to File > Download as > PDF via HTML\n",
    "   in order to download your completed lab to your computer as a PDF.\n",
    "1. Now upload that PDF to Gradescope.com by logging into our course and clicking on the name of the assignment"
   ]
  }
 ],
 "metadata": {
  "kernelspec": {
   "display_name": "Python 3",
   "language": "python",
   "name": "python3"
  },
  "language_info": {
   "codemirror_mode": {
    "name": "ipython",
    "version": 3
   },
   "file_extension": ".py",
   "mimetype": "text/x-python",
   "name": "python",
   "nbconvert_exporter": "python",
   "pygments_lexer": "ipython3",
   "version": "3.8.5"
  }
 },
 "nbformat": 4,
 "nbformat_minor": 4
}
