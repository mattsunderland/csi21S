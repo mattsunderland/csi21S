{
 "cells": [
  {
   "cell_type": "markdown",
   "metadata": {},
   "source": [
    "# Calculus III - Lab 1 - How to submit labs\n",
    "\n",
    "# What is a notebook file?"
   ]
  },
  {
   "cell_type": "markdown",
   "metadata": {},
   "source": [
    "(A1) This file is a (Python 3) notebook file.  \n",
    "&emsp;&emsp; It can contain both text and code.\n",
    "\n",
    "(A2) The gray rectangle below is a \"code cell\".  \n",
    "&emsp;&emsp; Click on it and press SHIFT+RETURN and it will **RUN.**  \n",
    "&emsp;&emsp; (The \"return\" key is sometimes called \"enter.\")"
   ]
  },
  {
   "cell_type": "code",
   "execution_count": null,
   "metadata": {},
   "outputs": [],
   "source": [
    "10*7\n",
    "1 + 1000"
   ]
  },
  {
   "cell_type": "markdown",
   "metadata": {},
   "source": [
    "(A3) Only the last result displays!\n",
    "\n",
    "(A4) The \"+\" on the toolbar adds a code cell (or type ESC then \"b\").  \n",
    "&emsp;&emsp; The \"scissors\" deletes a cell (or type ESC then \"x\").  \n",
    "&emsp;&emsp; To clear a cell's output, type ESC then \"r\" then \"y\"\n",
    "\n",
    "# Basic arithmetic\n",
    "(A5) **RUN** the following. Only the last result displays, but that last result can have commas."
   ]
  },
  {
   "cell_type": "code",
   "execution_count": null,
   "metadata": {},
   "outputs": [],
   "source": [
    "1 + 2 + 3\n",
    "\n",
    "50 - 4, 1000*1000\n",
    "\n",
    "10*2, 10/2, 10**2"
   ]
  },
  {
   "cell_type": "markdown",
   "metadata": {},
   "source": [
    "(A6) **EXERCISE.** What do `*`, `/`, and `**` mean in Python?"
   ]
  },
  {
   "cell_type": "code",
   "execution_count": null,
   "metadata": {},
   "outputs": [],
   "source": [
    "# TYPE YOUR ANSWERS BELOW\n",
    "#\n",
    "#    *  is   \n",
    "#    /  is   \n",
    "#   **  is   \n",
    "#"
   ]
  },
  {
   "cell_type": "markdown",
   "metadata": {},
   "source": [
    "(A7) **EXERCISE** Do spaces around the operations `+` `-` `*` `/` `**` matter, or is it just style?"
   ]
  },
  {
   "cell_type": "code",
   "execution_count": null,
   "metadata": {},
   "outputs": [],
   "source": [
    "# TYPE YOUR ANSWER BELOW\n",
    "#\n",
    "#   \n",
    "#"
   ]
  },
  {
   "cell_type": "markdown",
   "metadata": {},
   "source": [
    "# Comments\n",
    "(A8) **RUN** the following"
   ]
  },
  {
   "cell_type": "code",
   "execution_count": null,
   "metadata": {},
   "outputs": [],
   "source": [
    "# Consider the following:\n",
    "\n",
    "49**0.5 # One-half power means square root.\n",
    "\n",
    "# The square root of 49 is 7."
   ]
  },
  {
   "cell_type": "markdown",
   "metadata": {},
   "source": [
    "(A9) **EXERCISE** What does Python do when it sees the `#` symbol?"
   ]
  },
  {
   "cell_type": "code",
   "execution_count": null,
   "metadata": {},
   "outputs": [],
   "source": [
    "# TYPE YOUR ANSWER BELOW\n",
    "#\n",
    "#   \n",
    "#"
   ]
  },
  {
   "cell_type": "markdown",
   "metadata": {},
   "source": [
    "(A10) Pro tip. Type COMMAND + \"/\" (at the same time) to comment or uncomment the current line."
   ]
  },
  {
   "cell_type": "markdown",
   "metadata": {},
   "source": [
    "# Assignment\n",
    "(A11) **RUN** the following."
   ]
  },
  {
   "cell_type": "code",
   "execution_count": null,
   "metadata": {},
   "outputs": [],
   "source": [
    "a = 10\n",
    "a"
   ]
  },
  {
   "cell_type": "code",
   "execution_count": null,
   "metadata": {},
   "outputs": [],
   "source": [
    "b = 20"
   ]
  },
  {
   "cell_type": "markdown",
   "metadata": {},
   "source": [
    "(A12) **EXERCISE.** Assigning a value to a something using `=` is called \"assignment.\" Does assignment in a Python notebook produce any visible output?"
   ]
  },
  {
   "cell_type": "code",
   "execution_count": null,
   "metadata": {},
   "outputs": [],
   "source": [
    "# TYPE YOUR ANSWER BELOW\n",
    "#\n",
    "#   \n",
    "#"
   ]
  },
  {
   "cell_type": "markdown",
   "metadata": {},
   "source": [
    "# Python functions\n",
    "(A13) **RUN** the following"
   ]
  },
  {
   "cell_type": "code",
   "execution_count": null,
   "metadata": {},
   "outputs": [],
   "source": [
    "def g(x):\n",
    "    return x**2\n",
    "\n",
    "g(7)"
   ]
  },
  {
   "cell_type": "code",
   "execution_count": null,
   "metadata": {},
   "outputs": [],
   "source": [
    "def h(n): return n + 100\n",
    "\n",
    "h(7)"
   ]
  },
  {
   "cell_type": "markdown",
   "metadata": {},
   "source": [
    "(A14) **EXERCISE.** Make the function $P(x) = x^2 - 2x + 1$ and find $P(P(7))$."
   ]
  },
  {
   "cell_type": "code",
   "execution_count": null,
   "metadata": {},
   "outputs": [],
   "source": [
    "# Type your answer below and press SHIFT+ENTER\n",
    "\n"
   ]
  },
  {
   "cell_type": "markdown",
   "metadata": {},
   "source": [
    "# Built-in `%pylab` functions\n",
    "<a id='pylab'></a>\n",
    "\n",
    "| Python      | Math notation | Meaning |\n",
    "| ---         | ---           | ---     |\n",
    "| `abs(x)`    | $\\mid x\\mid$  | absolute value\n",
    "| `sqrt(x)`   | $\\sqrt x$     | square root\n",
    "| `exp(x)`    | $e^x$         | exponential function\n",
    "| `log(x)`    | $\\ln x$       | natural logarithm\n",
    "| `sin(x)`    | $\\sin x$      | sine\n",
    "| `arcsin(x)` | $\\sin^{-1}x$  | inverse sine\n",
    "| `radians(x)`|               | converts degrees to radians\n",
    "\n",
    "(A15) **RUN** the following.\n",
    "The command `%pylab notebook` only needs to be run once per lab;\n",
    "it loads \"built-in functions\"\n",
    "(from python packages numpy and matplotlib).\n",
    "\n",
    "<!--\n",
    "_(Specifically it loads functions from_  \n",
    "_the numpy math package and the matplotlib graphing package._  \n",
    "_These packages come included when you install Python from_  \n",
    "_http://www.anaconda.com/products/individual )_\n",
    "-->"
   ]
  },
  {
   "cell_type": "code",
   "execution_count": null,
   "metadata": {},
   "outputs": [],
   "source": [
    "%pylab inline\n",
    "\n",
    "sqrt(49)"
   ]
  },
  {
   "cell_type": "code",
   "execution_count": null,
   "metadata": {},
   "outputs": [],
   "source": [
    "pi, exp(1), sin(pi/2)"
   ]
  },
  {
   "cell_type": "markdown",
   "metadata": {},
   "source": [
    "# Arrays with `r_[ ]`\n",
    "\n",
    "(A16) **RUN** the following. We can use `r_[ ]` to make an array of numbers of our choice.\n",
    "\n",
    "_☞ Note. If you get an error, go back and run [(A15)](#pylab)_"
   ]
  },
  {
   "cell_type": "code",
   "execution_count": null,
   "metadata": {},
   "outputs": [],
   "source": [
    "x = r_[2,3,4,5,10]\n",
    "x**3"
   ]
  },
  {
   "cell_type": "markdown",
   "metadata": {},
   "source": [
    "(A17) **EXERCISE.** Use `r_[ ]` to store the numbers 2,3,5,7,11 in an array named `x`. Find `x*x`."
   ]
  },
  {
   "cell_type": "code",
   "execution_count": null,
   "metadata": {},
   "outputs": [],
   "source": [
    "# Type your answer below and press SHIFT+ENTER\n",
    "\n"
   ]
  },
  {
   "cell_type": "markdown",
   "metadata": {},
   "source": [
    "# Arrays with `r_[a:b:stride]`\n",
    "\n",
    "(A18) **RUN** the following.\n",
    "In general, `r_[a:b]` will list integers from $a$ up to but _not_ including $b$.\n",
    "If you omit the $a$, then python assumes $a$ is 0."
   ]
  },
  {
   "cell_type": "code",
   "execution_count": null,
   "metadata": {},
   "outputs": [],
   "source": [
    "r_[5:10]"
   ]
  },
  {
   "cell_type": "code",
   "execution_count": null,
   "metadata": {},
   "outputs": [],
   "source": [
    "r_[:5]"
   ]
  },
  {
   "cell_type": "markdown",
   "metadata": {},
   "source": [
    "(A19) **EXERCISE.** Use `r_[a:b]` to make the array 1,2,3,4,5,6,7,8,9"
   ]
  },
  {
   "cell_type": "code",
   "execution_count": null,
   "metadata": {},
   "outputs": [],
   "source": [
    "# Type your answer below and press SHIFT+ENTER\n",
    "\n"
   ]
  },
  {
   "cell_type": "markdown",
   "metadata": {},
   "source": [
    "(A20) **RUN** the following. In general, `r_[a:b:stride]` spaces out your numbers by the amount `stride`."
   ]
  },
  {
   "cell_type": "code",
   "execution_count": null,
   "metadata": {},
   "outputs": [],
   "source": [
    "r_[0:100:2]"
   ]
  },
  {
   "cell_type": "markdown",
   "metadata": {},
   "source": [
    "(A21) **EXERCISE.** Use `r_[a:b:stride]` to make the array $1,3,5,\\dots,99$"
   ]
  },
  {
   "cell_type": "code",
   "execution_count": null,
   "metadata": {},
   "outputs": [],
   "source": [
    "# Type your answer below and press SHIFT+ENTER\n",
    "\n"
   ]
  },
  {
   "cell_type": "markdown",
   "metadata": {},
   "source": [
    "# Arrays with `linspace(a,b,n)`\n",
    "\n",
    "(A22) <a id='linspace'></a> **RUN** the following.  \n",
    "&emsp;&emsp; Observe that `linspace(a,b,n)` lists n numbers from a to b **inclusive.**  \n",
    "&emsp;&emsp; This is useful for generating a lot of evenly-spaced numbers, such as when graphing.  \n",
    "&emsp;&emsp; When you leave out the n, Python assumes n is 50.  \n",
    "&emsp;&emsp; In other words, `linspace(a,b)` lists **50 numbers** from a to b inclusive.  "
   ]
  },
  {
   "cell_type": "code",
   "execution_count": null,
   "metadata": {},
   "outputs": [],
   "source": [
    "linspace(0,10,6)"
   ]
  },
  {
   "cell_type": "code",
   "execution_count": null,
   "metadata": {},
   "outputs": [],
   "source": [
    "linspace(0,10)"
   ]
  },
  {
   "cell_type": "markdown",
   "metadata": {},
   "source": [
    "(A23) **EXERCISE.** Use `linspace(a,b,n)` to make the array $1,3,5,\\dots,99$"
   ]
  },
  {
   "cell_type": "code",
   "execution_count": null,
   "metadata": {},
   "outputs": [],
   "source": [
    "# Type your answer below and press SHIFT+ENTER\n",
    "\n"
   ]
  },
  {
   "cell_type": "markdown",
   "metadata": {},
   "source": [
    "(A24) **RUN** the following.\n",
    "Notice that `x` and `y` are arrays,\n",
    "`c_[x,y]` puts them into a table."
   ]
  },
  {
   "cell_type": "code",
   "execution_count": null,
   "metadata": {},
   "outputs": [],
   "source": [
    "x = r_[:10]\n",
    "y = x**2\n",
    "c_[x,y]"
   ]
  },
  {
   "cell_type": "markdown",
   "metadata": {},
   "source": [
    "(A25) **EXERCISE.**  \n",
    "&emsp;&emsp; - Use `r_` to make an array of Fahrenheit values `x` = $-100,-80,-60,\\dots,100$.  \n",
    "&emsp;&emsp; - Make the corresponding array of Celsius values `y` using the formula  \n",
    "&emsp;&emsp; &emsp;&emsp; $C = 5/9(F - 32)$$  \n",
    "&emsp;&emsp; - Use `c_` to put `x` and `y` into a table."
   ]
  },
  {
   "cell_type": "code",
   "execution_count": null,
   "metadata": {},
   "outputs": [],
   "source": [
    "# Type your answer below and press SHIFT+ENTER\n",
    "\n"
   ]
  },
  {
   "cell_type": "markdown",
   "metadata": {},
   "source": [
    "# Plotting in 2D\n",
    "\n",
    "(A26) Example.\n",
    "To graph $f(x) = x^2$ over $[-2,2]$ by hand, make an $xy$ table: choose some $x$ values,\n",
    "\n",
    "|   |   |   |   |   |   |\n",
    "|---|---|---|---|---|---|\n",
    "| **x** |-2 |-1 | 0 | 1 | 2 |\n",
    "| **y**|\n",
    "\n",
    "and then use $f$ to compute the $y$s.\n",
    "\n",
    "(A27) **RUN** the following. Graphing in Python is similar to graphing by hand: we make an array of $x$ values and an array of $y$ values.\n",
    "\n",
    "_☞ Note. If you get an error, go back and run [(A15)](#pylab)_"
   ]
  },
  {
   "cell_type": "code",
   "execution_count": null,
   "metadata": {},
   "outputs": [],
   "source": [
    "x = r_[-2, -1, 0, 1, 2]\n",
    "y = r_[4, 1, 0, 1, 4]\n",
    "plot(x,y)"
   ]
  },
  {
   "cell_type": "code",
   "execution_count": null,
   "metadata": {},
   "outputs": [],
   "source": [
    "x = r_[-2, -1, 0, 1, 2]\n",
    "y = x**2\n",
    "plot(x,y)"
   ]
  },
  {
   "cell_type": "markdown",
   "metadata": {},
   "source": [
    "(A28) **RUN** the following. We can `c_[x,y]` to make a table out of the arrays $x$ and $y$"
   ]
  },
  {
   "cell_type": "code",
   "execution_count": null,
   "metadata": {},
   "outputs": [],
   "source": [
    "x = linspace(-2,2,9)\n",
    "y = x**2\n",
    "c_[x,y]"
   ]
  },
  {
   "cell_type": "markdown",
   "metadata": {},
   "source": [
    "(A29) **RUN** the following."
   ]
  },
  {
   "cell_type": "code",
   "execution_count": null,
   "metadata": {},
   "outputs": [],
   "source": [
    "x = linspace(-2,2,9)\n",
    "y = x**2\n",
    "\n",
    "plot(x,y)\n",
    "title('$f(x) = x^2$')\n",
    "grid()"
   ]
  },
  {
   "cell_type": "markdown",
   "metadata": {},
   "source": [
    "(A30) **RUN** the following example, where we graph $x^2$ over the domain $[-2,2]$"
   ]
  },
  {
   "cell_type": "code",
   "execution_count": null,
   "metadata": {},
   "outputs": [],
   "source": [
    "x = linspace(-2,2)\n",
    "y = x**2\n",
    "\n",
    "plot(x,y)\n",
    "title('$f(x) = x^2$')\n",
    "grid()"
   ]
  },
  {
   "cell_type": "markdown",
   "metadata": {},
   "source": [
    "(A31) **EXERCISE.** How many points are used to plot 28 and 29 above? _Hint: see [(A22)](#linspace)_"
   ]
  },
  {
   "cell_type": "code",
   "execution_count": null,
   "metadata": {},
   "outputs": [],
   "source": [
    "# Type your answer below\n",
    "#\n",
    "#  The graph in 28 uses ____ points.\n",
    "#  The graph in 29 uses ____ points.\n",
    "#"
   ]
  },
  {
   "cell_type": "markdown",
   "metadata": {},
   "source": [
    "(A32) **EXERCISE.** Graph $sin x + cos 3x$ over the domain $[0,2\\pi]$"
   ]
  },
  {
   "cell_type": "code",
   "execution_count": null,
   "metadata": {},
   "outputs": [],
   "source": [
    "# Type your answer below and press SHIFT+ENTER\n",
    "\n"
   ]
  },
  {
   "cell_type": "markdown",
   "metadata": {},
   "source": [
    "# Summary of new commands\n",
    "\n",
    "Arithmetic `+` `-` `*` `/` `**` `,` `=`  \n",
    "Comments `#`  \n",
    "Defining functions `def` ... `: return` ...\n",
    "\n",
    "Built-in functions `%pylab inline`\n",
    "`abs` `sqrt` `exp` `log` `sin` `arcsin` `radian`\n",
    "\n",
    "Arrays `r_[a:b:step]` `linspace(a,b,count)`  \n",
    "Tables `c_[x,y]`  \n",
    "Plots `plot(x,y)` `title` `grid`"
   ]
  },
  {
   "cell_type": "markdown",
   "metadata": {},
   "source": [
    "# Tips and tricks (General troubleshooting)\n",
    "Code not running?\n",
    "- Did you spell the name of the variable (the column header) correctly?\n",
    "- Does it stay `[*]` to the left of the code cell forever? That means internet connection was lost at some point. Go to Kernel > Reconnect. See also the next tip:\n",
    "- Does it say \"Not Connected\" or \"No kernel\" or \"Connecting to kernel\" or \"error\" in a red box in the top right? The server in the cloud timed out due to user inactivity. Save your work right now to a PDF and then go back to the Syllabus and open a fresh copy of this lab.\n",
    "\n",
    "# How to submit your lab to Gradescope\n",
    "After you **RUN** all the code cells and type in your answers to all the **EXERCISES** above, it's time to submit your completed lab to Gradescope.\n",
    "\n",
    "1. On this webpage, under the big word \"jupyter,\"\n",
    "   go to File > Download as > PDF via HTML\n",
    "   in order to download your completed lab to your computer as a PDF.\n",
    "1. Now upload that PDF to Gradescope.com by logging into our course and clicking on the name of the assignment"
   ]
  }
 ],
 "metadata": {
  "kernelspec": {
   "display_name": "Python 3",
   "language": "python",
   "name": "python3"
  },
  "language_info": {
   "codemirror_mode": {
    "name": "ipython",
    "version": 3
   },
   "file_extension": ".py",
   "mimetype": "text/x-python",
   "name": "python",
   "nbconvert_exporter": "python",
   "pygments_lexer": "ipython3",
   "version": "3.8.5"
  }
 },
 "nbformat": 4,
 "nbformat_minor": 4
}
